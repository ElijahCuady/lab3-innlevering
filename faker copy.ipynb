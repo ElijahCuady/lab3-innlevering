{
 "cells": [
  {
   "cell_type": "markdown",
   "id": "dae76a3c",
   "metadata": {},
   "source": [
    "# Task 1\n",
    "Faker Create a dataframe with 100 fake persons\n"
   ]
  },
  {
   "cell_type": "code",
   "execution_count": 1,
   "id": "c64aaefc",
   "metadata": {},
   "outputs": [],
   "source": [
    "from faker import Faker\n",
    "from faker.providers.credit_card import Provider as CreditCardProvider #Add creditcards to faker\n",
    "import pandas as pd\n",
    "# from laundromat.spacy.spacy_model import SpacyModel\n",
    "# from faker.providers.credit_card import Provider as CreditCardProvider #Add creditcards to faker"
   ]
  },
  {
   "cell_type": "code",
   "execution_count": null,
   "id": "9e9ae710",
   "metadata": {},
   "outputs": [],
   "source": []
  },
  {
   "cell_type": "code",
   "execution_count": 12,
   "id": "82283d25",
   "metadata": {},
   "outputs": [
    {
     "name": "stdout",
     "output_type": "stream",
     "text": [
      "3.5.3\n"
     ]
    }
   ],
   "source": [
    "#import spacy\n",
    "#print(spacy.__version__)"
   ]
  },
  {
   "cell_type": "code",
   "execution_count": 4,
   "id": "6ca8e740",
   "metadata": {},
   "outputs": [],
   "source": [
    "fake = Faker(['no_NO']) #Create a faker with norwegian Names and structures"
   ]
  },
  {
   "cell_type": "code",
   "execution_count": 5,
   "id": "0c8131c4",
   "metadata": {},
   "outputs": [],
   "source": [
    "df = pd.DataFrame(columns=['Navn','Adresse','PersonNr', 'CreditCard', 'ipv4']) # Create a empty df"
   ]
  },
  {
   "cell_type": "code",
   "execution_count": 6,
   "id": "732f4ab4",
   "metadata": {},
   "outputs": [],
   "source": [
    "for i in range(100):\n",
    "    row = fake.name(),fake.address(),fake.ssn(),fake.credit_card_number(),fake.ipv4()\n",
    "    df.loc[i]=row"
   ]
  },
  {
   "cell_type": "code",
   "execution_count": 7,
   "id": "66e55f1f",
   "metadata": {},
   "outputs": [
    {
     "data": {
      "text/html": [
       "<div>\n",
       "<style scoped>\n",
       "    .dataframe tbody tr th:only-of-type {\n",
       "        vertical-align: middle;\n",
       "    }\n",
       "\n",
       "    .dataframe tbody tr th {\n",
       "        vertical-align: top;\n",
       "    }\n",
       "\n",
       "    .dataframe thead th {\n",
       "        text-align: right;\n",
       "    }\n",
       "</style>\n",
       "<table border=\"1\" class=\"dataframe\">\n",
       "  <thead>\n",
       "    <tr style=\"text-align: right;\">\n",
       "      <th></th>\n",
       "      <th>Navn</th>\n",
       "      <th>Adresse</th>\n",
       "      <th>PersonNr</th>\n",
       "      <th>CreditCard</th>\n",
       "      <th>ipv4</th>\n",
       "    </tr>\n",
       "  </thead>\n",
       "  <tbody>\n",
       "    <tr>\n",
       "      <th>0</th>\n",
       "      <td>Linda-Cecilie Mikkelsen</td>\n",
       "      <td>Holmåsen 6, 8573 Mathiassjøen</td>\n",
       "      <td>14127835137</td>\n",
       "      <td>4822794008406388468</td>\n",
       "      <td>122.17.96.86</td>\n",
       "    </tr>\n",
       "    <tr>\n",
       "      <th>1</th>\n",
       "      <td>Sindre Thorsen</td>\n",
       "      <td>Nilsenkroken 400, 1176 Evensen</td>\n",
       "      <td>08127431540</td>\n",
       "      <td>30184464521265</td>\n",
       "      <td>63.105.0.195</td>\n",
       "    </tr>\n",
       "    <tr>\n",
       "      <th>2</th>\n",
       "      <td>Janne Aune</td>\n",
       "      <td>Engengjerdet 68, 9300 Lindastrøm</td>\n",
       "      <td>07108706834</td>\n",
       "      <td>4108287693097970</td>\n",
       "      <td>157.129.136.242</td>\n",
       "    </tr>\n",
       "    <tr>\n",
       "      <th>3</th>\n",
       "      <td>Magnus-Stian Jakobsen</td>\n",
       "      <td>Jensenmoen 76B, 8862 Ruthstad</td>\n",
       "      <td>09066324637</td>\n",
       "      <td>30360962365864</td>\n",
       "      <td>146.110.117.108</td>\n",
       "    </tr>\n",
       "    <tr>\n",
       "      <th>4</th>\n",
       "      <td>Tom Hagen</td>\n",
       "      <td>Amundsenløkka 3A, 8387 Gunnnes</td>\n",
       "      <td>27027308908</td>\n",
       "      <td>060446027207</td>\n",
       "      <td>206.134.100.158</td>\n",
       "    </tr>\n",
       "  </tbody>\n",
       "</table>\n",
       "</div>"
      ],
      "text/plain": [
       "                      Navn                           Adresse     PersonNr   \n",
       "0  Linda-Cecilie Mikkelsen     Holmåsen 6, 8573 Mathiassjøen  14127835137  \\\n",
       "1           Sindre Thorsen    Nilsenkroken 400, 1176 Evensen  08127431540   \n",
       "2               Janne Aune  Engengjerdet 68, 9300 Lindastrøm  07108706834   \n",
       "3    Magnus-Stian Jakobsen     Jensenmoen 76B, 8862 Ruthstad  09066324637   \n",
       "4                Tom Hagen    Amundsenløkka 3A, 8387 Gunnnes  27027308908   \n",
       "\n",
       "            CreditCard             ipv4  \n",
       "0  4822794008406388468     122.17.96.86  \n",
       "1       30184464521265     63.105.0.195  \n",
       "2     4108287693097970  157.129.136.242  \n",
       "3       30360962365864  146.110.117.108  \n",
       "4         060446027207  206.134.100.158  "
      ]
     },
     "execution_count": 7,
     "metadata": {},
     "output_type": "execute_result"
    }
   ],
   "source": [
    "df.head()\n"
   ]
  },
  {
   "cell_type": "code",
   "execution_count": 8,
   "id": "e1fe1d7b",
   "metadata": {},
   "outputs": [],
   "source": [
    "textArray = [] #Create a empty array\n",
    "for row in range(10):\n",
    "# Do a for loop, and assign values to name and adress\n",
    "    row=df.iloc[i]\n",
    "    name = row[0] \n",
    "    adress = row[1]\n",
    "    ssn = row[2]\n",
    "    cc = row[3]\n",
    "    #Using f string we can now create a new string with the values, and\n",
    "    #append (add) that string to the text array\n",
    "    textArray.append(f'Hi, my name is {name}. I wonder if you deliver to {adress}, my visa is {cc} and my ssn is {ssn}')"
   ]
  },
  {
   "cell_type": "code",
   "execution_count": 9,
   "id": "a9109219",
   "metadata": {},
   "outputs": [
    {
     "name": "stdout",
     "output_type": "stream",
     "text": [
      "['Hi, my name is Robert-Erling Johansen. I wonder if you deliver to Madsenvollen 1, 2826 Christensen, my visa is 4763944602677831 and my ssn is 01058002883', 'Hi, my name is Robert-Erling Johansen. I wonder if you deliver to Madsenvollen 1, 2826 Christensen, my visa is 4763944602677831 and my ssn is 01058002883', 'Hi, my name is Robert-Erling Johansen. I wonder if you deliver to Madsenvollen 1, 2826 Christensen, my visa is 4763944602677831 and my ssn is 01058002883', 'Hi, my name is Robert-Erling Johansen. I wonder if you deliver to Madsenvollen 1, 2826 Christensen, my visa is 4763944602677831 and my ssn is 01058002883', 'Hi, my name is Robert-Erling Johansen. I wonder if you deliver to Madsenvollen 1, 2826 Christensen, my visa is 4763944602677831 and my ssn is 01058002883', 'Hi, my name is Robert-Erling Johansen. I wonder if you deliver to Madsenvollen 1, 2826 Christensen, my visa is 4763944602677831 and my ssn is 01058002883', 'Hi, my name is Robert-Erling Johansen. I wonder if you deliver to Madsenvollen 1, 2826 Christensen, my visa is 4763944602677831 and my ssn is 01058002883', 'Hi, my name is Robert-Erling Johansen. I wonder if you deliver to Madsenvollen 1, 2826 Christensen, my visa is 4763944602677831 and my ssn is 01058002883', 'Hi, my name is Robert-Erling Johansen. I wonder if you deliver to Madsenvollen 1, 2826 Christensen, my visa is 4763944602677831 and my ssn is 01058002883', 'Hi, my name is Robert-Erling Johansen. I wonder if you deliver to Madsenvollen 1, 2826 Christensen, my visa is 4763944602677831 and my ssn is 01058002883']\n"
     ]
    }
   ],
   "source": [
    "print(textArray)"
   ]
  },
  {
   "cell_type": "code",
   "execution_count": 19,
   "id": "b7d549f3",
   "metadata": {},
   "outputs": [
    {
     "ename": "NameError",
     "evalue": "name 'SpacyModel' is not defined",
     "output_type": "error",
     "traceback": [
      "\u001b[1;31m---------------------------------------------------------------------------\u001b[0m",
      "\u001b[1;31mNameError\u001b[0m                                 Traceback (most recent call last)",
      "\u001b[1;32mc:\\Users\\atika\\Downloads\\Intro_to_AI_2021-main\\Intro_to_AI_2021-main\\Lab3\\faker.ipynb Cell 10\u001b[0m line \u001b[0;36m1\n\u001b[1;32m----> <a href='vscode-notebook-cell:/c%3A/Users/atika/Downloads/Intro_to_AI_2021-main/Intro_to_AI_2021-main/Lab3/faker.ipynb#X12sZmlsZQ%3D%3D?line=0'>1</a>\u001b[0m nlp \u001b[39m=\u001b[39m SpacyModel()\n",
      "\u001b[1;31mNameError\u001b[0m: name 'SpacyModel' is not defined"
     ]
    }
   ],
   "source": [
    "nlp = SpacyModel()"
   ]
  },
  {
   "cell_type": "code",
   "execution_count": 10,
   "id": "9de6413f",
   "metadata": {},
   "outputs": [
    {
     "ename": "NameError",
     "evalue": "name 'nlp' is not defined",
     "output_type": "error",
     "traceback": [
      "\u001b[1;31m---------------------------------------------------------------------------\u001b[0m",
      "\u001b[1;31mNameError\u001b[0m                                 Traceback (most recent call last)",
      "\u001b[1;32mc:\\Users\\elija\\Desktop\\Oslomet\\5. semester\\AI\\lab3 innlevering\\faker.ipynb Cell 12\u001b[0m line \u001b[0;36m2\n\u001b[0;32m      <a href='vscode-notebook-cell:/c%3A/Users/elija/Desktop/Oslomet/5.%20semester/AI/lab3%20innlevering/faker.ipynb#X13sZmlsZQ%3D%3D?line=0'>1</a>\u001b[0m \u001b[39mfor\u001b[39;00m line \u001b[39min\u001b[39;00m textArray:\n\u001b[1;32m----> <a href='vscode-notebook-cell:/c%3A/Users/elija/Desktop/Oslomet/5.%20semester/AI/lab3%20innlevering/faker.ipynb#X13sZmlsZQ%3D%3D?line=1'>2</a>\u001b[0m     entities \u001b[39m=\u001b[39m nlp\u001b[39m.\u001b[39mpredict(line)\n\u001b[0;32m      <a href='vscode-notebook-cell:/c%3A/Users/elija/Desktop/Oslomet/5.%20semester/AI/lab3%20innlevering/faker.ipynb#X13sZmlsZQ%3D%3D?line=2'>3</a>\u001b[0m     replaced_text_1 \u001b[39m=\u001b[39m nlp\u001b[39m.\u001b[39mreplace(line, replacement\u001b[39m=\u001b[39m\u001b[39m\"\u001b[39m\u001b[39mentity\u001b[39m\u001b[39m\"\u001b[39m, replacement_char\u001b[39m=\u001b[39m\u001b[39m\"\u001b[39m\u001b[39m:^)\u001b[39m\u001b[39m\"\u001b[39m)\n\u001b[0;32m      <a href='vscode-notebook-cell:/c%3A/Users/elija/Desktop/Oslomet/5.%20semester/AI/lab3%20innlevering/faker.ipynb#X13sZmlsZQ%3D%3D?line=3'>4</a>\u001b[0m     \u001b[39mprint\u001b[39m(line)\n",
      "\u001b[1;31mNameError\u001b[0m: name 'nlp' is not defined"
     ]
    }
   ],
   "source": [
    "for line in textArray:\n",
    "    entities = nlp.predict(line)\n",
    "    replaced_text_1 = nlp.replace(line, replacement=\"entity\", replacement_char=\":^)\")\n",
    "    print(line)\n",
    "    print(replaced_text_1+'\\n')"
   ]
  },
  {
   "cell_type": "code",
   "execution_count": null,
   "id": "5666c30f",
   "metadata": {},
   "outputs": [
    {
     "name": "stdout",
     "output_type": "stream",
     "text": [
      "FNR\n",
      "CREDIT_CARD\n",
      "TLF\n",
      "DTM\n",
      "AMOUNT\n"
     ]
    }
   ],
   "source": [
    "nlp.add_patterns(lookup=True)\n",
    "nlp.print_regex_labels()"
   ]
  },
  {
   "cell_type": "code",
   "execution_count": null,
   "id": "003fa342",
   "metadata": {},
   "outputs": [
    {
     "name": "stdout",
     "output_type": "stream",
     "text": [
      "Hi, my name is Siri Danielsen. I wonder if you deliver to Henriksentjernet 049, 9062 Eliassen, my visa is 4853899966723 and my ssn is 03049943007\n",
      "Hi, my name is <PER>. I wonder if you deliver to Henriksentjernet <DTM>, 9062 <PER>, my visa is <CREDIT_CARD> and my ssn is 03<DTM>943007\n",
      "\n",
      "Hi, my name is Siri Danielsen. I wonder if you deliver to Henriksentjernet 049, 9062 Eliassen, my visa is 4853899966723 and my ssn is 03049943007\n",
      "Hi, my name is <PER>. I wonder if you deliver to Henriksentjernet <DTM>, 9062 <PER>, my visa is <CREDIT_CARD> and my ssn is 03<DTM>943007\n",
      "\n",
      "Hi, my name is Siri Danielsen. I wonder if you deliver to Henriksentjernet 049, 9062 Eliassen, my visa is 4853899966723 and my ssn is 03049943007\n",
      "Hi, my name is <PER>. I wonder if you deliver to Henriksentjernet <DTM>, 9062 <PER>, my visa is <CREDIT_CARD> and my ssn is 03<DTM>943007\n",
      "\n",
      "Hi, my name is Siri Danielsen. I wonder if you deliver to Henriksentjernet 049, 9062 Eliassen, my visa is 4853899966723 and my ssn is 03049943007\n",
      "Hi, my name is <PER>. I wonder if you deliver to Henriksentjernet <DTM>, 9062 <PER>, my visa is <CREDIT_CARD> and my ssn is 03<DTM>943007\n",
      "\n",
      "Hi, my name is Siri Danielsen. I wonder if you deliver to Henriksentjernet 049, 9062 Eliassen, my visa is 4853899966723 and my ssn is 03049943007\n",
      "Hi, my name is <PER>. I wonder if you deliver to Henriksentjernet <DTM>, 9062 <PER>, my visa is <CREDIT_CARD> and my ssn is 03<DTM>943007\n",
      "\n",
      "Hi, my name is Siri Danielsen. I wonder if you deliver to Henriksentjernet 049, 9062 Eliassen, my visa is 4853899966723 and my ssn is 03049943007\n",
      "Hi, my name is <PER>. I wonder if you deliver to Henriksentjernet <DTM>, 9062 <PER>, my visa is <CREDIT_CARD> and my ssn is 03<DTM>943007\n",
      "\n",
      "Hi, my name is Siri Danielsen. I wonder if you deliver to Henriksentjernet 049, 9062 Eliassen, my visa is 4853899966723 and my ssn is 03049943007\n",
      "Hi, my name is <PER>. I wonder if you deliver to Henriksentjernet <DTM>, 9062 <PER>, my visa is <CREDIT_CARD> and my ssn is 03<DTM>943007\n",
      "\n",
      "Hi, my name is Siri Danielsen. I wonder if you deliver to Henriksentjernet 049, 9062 Eliassen, my visa is 4853899966723 and my ssn is 03049943007\n",
      "Hi, my name is <PER>. I wonder if you deliver to Henriksentjernet <DTM>, 9062 <PER>, my visa is <CREDIT_CARD> and my ssn is 03<DTM>943007\n",
      "\n",
      "Hi, my name is Siri Danielsen. I wonder if you deliver to Henriksentjernet 049, 9062 Eliassen, my visa is 4853899966723 and my ssn is 03049943007\n",
      "Hi, my name is <PER>. I wonder if you deliver to Henriksentjernet <DTM>, 9062 <PER>, my visa is <CREDIT_CARD> and my ssn is 03<DTM>943007\n",
      "\n",
      "Hi, my name is Siri Danielsen. I wonder if you deliver to Henriksentjernet 049, 9062 Eliassen, my visa is 4853899966723 and my ssn is 03049943007\n",
      "Hi, my name is <PER>. I wonder if you deliver to Henriksentjernet <DTM>, 9062 <PER>, my visa is <CREDIT_CARD> and my ssn is 03<DTM>943007\n",
      "\n"
     ]
    }
   ],
   "source": [
    "for line in textArray:\n",
    "    entities = nlp.predict(line)\n",
    "    replaced_text_1 = nlp.replace(line, replacement=\"entity\", replacement_char=\":^)\")\n",
    "    print(line)\n",
    "    print(replaced_text_1+'\\n')"
   ]
  },
  {
   "cell_type": "code",
   "execution_count": null,
   "id": "26841924",
   "metadata": {},
   "outputs": [],
   "source": []
  }
 ],
 "metadata": {
  "kernelspec": {
   "display_name": "Python 3 (ipykernel)",
   "language": "python",
   "name": "python3"
  },
  "language_info": {
   "codemirror_mode": {
    "name": "ipython",
    "version": 3
   },
   "file_extension": ".py",
   "mimetype": "text/x-python",
   "name": "python",
   "nbconvert_exporter": "python",
   "pygments_lexer": "ipython3",
   "version": "3.11.0"
  }
 },
 "nbformat": 4,
 "nbformat_minor": 5
}
